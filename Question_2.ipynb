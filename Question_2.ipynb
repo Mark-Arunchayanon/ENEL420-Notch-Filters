{
 "cells": [
  {
   "cell_type": "code",
   "execution_count": 2,
   "metadata": {},
   "outputs": [],
   "source": [
    "import matplotlib.pyplot as plt\n",
    "from matplotlib import interactive"
   ]
  },
  {
   "cell_type": "code",
   "execution_count": null,
   "metadata": {},
   "outputs": [],
   "source": [
    "fs = 1024 #sampling frequency "
   ]
  },
  {
   "cell_type": "code",
   "execution_count": 4,
   "metadata": {},
   "outputs": [],
   "source": [
    "file = open(\"enel420_grp_19.txt\", \"r\")\n",
    "data = []\n",
    "\n",
    "for line in file:\n",
    "    lineOfPoints = line.split('  ')\n",
    "    for point in lineOfPoints:\n",
    "        data.append(float(point))\n",
    "\n",
    "t = list(range(0, len(data)))\n",
    "t[:] = [x/1024 for x in t]\n",
    "\n",
    "\n",
    "#plot from question 1\n",
    "\n",
    "#Plotting and other oddities\n",
    "plt.rcParams[\"figure.figsize\"] = (15, 10)\n",
    "plt.rcParams[\"figure.dpi\"] = 150\n",
    "fig = plt.figure()\n",
    "fig.suptitle('ECG Signal, Question 1', fontsize=20)\n",
    "plt.xlabel('Time (s)', fontsize=18)\n",
    "plt.ylabel('Voltage (μV)', fontsize=16)\n",
    "fig.savefig('Question 1.jpg')\n",
    "plt.plot(t, data)"
   ]
  },
  {
   "cell_type": "code",
   "execution_count": null,
   "metadata": {},
   "outputs": [],
   "source": []
  },
  {
   "cell_type": "code",
   "execution_count": null,
   "metadata": {},
   "outputs": [],
   "source": []
  },
  {
   "cell_type": "code",
   "execution_count": null,
   "metadata": {},
   "outputs": [],
   "source": []
  }
 ],
 "metadata": {
  "kernelspec": {
   "display_name": "Python 3",
   "language": "python",
   "name": "python3"
  },
  "language_info": {
   "codemirror_mode": {
    "name": "ipython",
    "version": 3
   },
   "file_extension": ".py",
   "mimetype": "text/x-python",
   "name": "python",
   "nbconvert_exporter": "python",
   "pygments_lexer": "ipython3",
   "version": "3.7.6"
  }
 },
 "nbformat": 4,
 "nbformat_minor": 4
}
